{
 "cells": [
  {
   "cell_type": "markdown",
   "id": "748a3aaf",
   "metadata": {
    "papermill": {
     "duration": 0.005706,
     "end_time": "2024-12-26T00:53:18.584730",
     "exception": false,
     "start_time": "2024-12-26T00:53:18.579024",
     "status": "completed"
    },
    "tags": []
   },
   "source": [
    "# SF Salaries Data Exploration with Pandas"
   ]
  },
  {
   "cell_type": "code",
   "execution_count": 1,
   "id": "1b4dcc97",
   "metadata": {
    "_cell_guid": "b1076dfc-b9ad-4769-8c92-a6c4dae69d19",
    "_uuid": "8f2839f25d086af736a60e9eeb907d3b93b6e0e5",
    "execution": {
     "iopub.execute_input": "2024-12-26T00:53:18.596099Z",
     "iopub.status.busy": "2024-12-26T00:53:18.595751Z",
     "iopub.status.idle": "2024-12-26T00:53:18.952228Z",
     "shell.execute_reply": "2024-12-26T00:53:18.950717Z"
    },
    "papermill": {
     "duration": 0.364154,
     "end_time": "2024-12-26T00:53:18.953941",
     "exception": false,
     "start_time": "2024-12-26T00:53:18.589787",
     "status": "completed"
    },
    "tags": []
   },
   "outputs": [
    {
     "name": "stdout",
     "output_type": "stream",
     "text": [
      "/kaggle/input/sf-salaries/Salaries.csv\n",
      "/kaggle/input/sf-salaries/database.sqlite\n"
     ]
    }
   ],
   "source": [
    "# This Python 3 environment comes with many helpful analytics libraries installed\n",
    "# It is defined by the kaggle/python Docker image: https://github.com/kaggle/docker-python\n",
    "# For example, here's several helpful packages to load\n",
    "\n",
    "import numpy as np # linear algebra\n",
    "import pandas as pd # data processing, CSV file I/O (e.g. pd.read_csv)\n",
    "\n",
    "# Input data files are available in the read-only \"../input/\" directory\n",
    "# For example, running this (by clicking run or pressing Shift+Enter) will list all files under the input directory\n",
    "\n",
    "import os\n",
    "for dirname, _, filenames in os.walk('/kaggle/input'):\n",
    "    for filename in filenames:\n",
    "        print(os.path.join(dirname, filename))\n",
    "\n",
    "# You can write up to 20GB to the current directory (/kaggle/working/) that gets preserved as output when you create a version using \"Save & Run All\" \n",
    "# You can also write temporary files to /kaggle/temp/, but they won't be saved outside of the current session"
   ]
  },
  {
   "cell_type": "code",
   "execution_count": 2,
   "id": "3972edfe",
   "metadata": {
    "execution": {
     "iopub.execute_input": "2024-12-26T00:53:18.966199Z",
     "iopub.status.busy": "2024-12-26T00:53:18.965778Z",
     "iopub.status.idle": "2024-12-26T00:53:19.667148Z",
     "shell.execute_reply": "2024-12-26T00:53:19.666149Z"
    },
    "papermill": {
     "duration": 0.709766,
     "end_time": "2024-12-26T00:53:19.668992",
     "exception": false,
     "start_time": "2024-12-26T00:53:18.959226",
     "status": "completed"
    },
    "tags": []
   },
   "outputs": [
    {
     "name": "stderr",
     "output_type": "stream",
     "text": [
      "<ipython-input-2-2a12daf4a160>:1: DtypeWarning: Columns (3,4,5,6,12) have mixed types. Specify dtype option on import or set low_memory=False.\n",
      "  sal = pd.read_csv('/kaggle/input/sf-salaries/Salaries.csv')\n"
     ]
    }
   ],
   "source": [
    "sal = pd.read_csv('/kaggle/input/sf-salaries/Salaries.csv')\n",
    "\n",
    "\n",
    "# the for loop below is to ensure consistency on the datatype of values provided in columns; BasePay, OvertimePay, OtherPay and Benefits. \n",
    "\n",
    "for col in sal[['BasePay','OvertimePay','OtherPay','Benefits']].select_dtypes(include=['object']).columns:\n",
    "    sal[col] = pd.to_numeric(sal[col], errors = 'coerce')"
   ]
  },
  {
   "cell_type": "code",
   "execution_count": 3,
   "id": "ba1954ff",
   "metadata": {
    "execution": {
     "iopub.execute_input": "2024-12-26T00:53:19.683675Z",
     "iopub.status.busy": "2024-12-26T00:53:19.683342Z",
     "iopub.status.idle": "2024-12-26T00:53:19.727502Z",
     "shell.execute_reply": "2024-12-26T00:53:19.726332Z"
    },
    "papermill": {
     "duration": 0.052188,
     "end_time": "2024-12-26T00:53:19.729072",
     "exception": false,
     "start_time": "2024-12-26T00:53:19.676884",
     "status": "completed"
    },
    "tags": []
   },
   "outputs": [
    {
     "name": "stdout",
     "output_type": "stream",
     "text": [
      "<class 'pandas.core.frame.DataFrame'>\n",
      "RangeIndex: 148654 entries, 0 to 148653\n",
      "Data columns (total 13 columns):\n",
      " #   Column            Non-Null Count   Dtype  \n",
      "---  ------            --------------   -----  \n",
      " 0   Id                148654 non-null  int64  \n",
      " 1   EmployeeName      148654 non-null  object \n",
      " 2   JobTitle          148654 non-null  object \n",
      " 3   BasePay           148045 non-null  float64\n",
      " 4   OvertimePay       148650 non-null  float64\n",
      " 5   OtherPay          148650 non-null  float64\n",
      " 6   Benefits          112491 non-null  float64\n",
      " 7   TotalPay          148654 non-null  float64\n",
      " 8   TotalPayBenefits  148654 non-null  float64\n",
      " 9   Year              148654 non-null  int64  \n",
      " 10  Notes             0 non-null       float64\n",
      " 11  Agency            148654 non-null  object \n",
      " 12  Status            38119 non-null   object \n",
      "dtypes: float64(7), int64(2), object(4)\n",
      "memory usage: 14.7+ MB\n"
     ]
    }
   ],
   "source": [
    "sal.info()"
   ]
  },
  {
   "cell_type": "code",
   "execution_count": 4,
   "id": "c6b813d7",
   "metadata": {
    "execution": {
     "iopub.execute_input": "2024-12-26T00:53:19.740483Z",
     "iopub.status.busy": "2024-12-26T00:53:19.740109Z",
     "iopub.status.idle": "2024-12-26T00:53:19.758517Z",
     "shell.execute_reply": "2024-12-26T00:53:19.757553Z"
    },
    "papermill": {
     "duration": 0.025682,
     "end_time": "2024-12-26T00:53:19.760017",
     "exception": false,
     "start_time": "2024-12-26T00:53:19.734335",
     "status": "completed"
    },
    "tags": []
   },
   "outputs": [
    {
     "data": {
      "text/html": [
       "<div>\n",
       "<style scoped>\n",
       "    .dataframe tbody tr th:only-of-type {\n",
       "        vertical-align: middle;\n",
       "    }\n",
       "\n",
       "    .dataframe tbody tr th {\n",
       "        vertical-align: top;\n",
       "    }\n",
       "\n",
       "    .dataframe thead th {\n",
       "        text-align: right;\n",
       "    }\n",
       "</style>\n",
       "<table border=\"1\" class=\"dataframe\">\n",
       "  <thead>\n",
       "    <tr style=\"text-align: right;\">\n",
       "      <th></th>\n",
       "      <th>Id</th>\n",
       "      <th>EmployeeName</th>\n",
       "      <th>JobTitle</th>\n",
       "      <th>BasePay</th>\n",
       "      <th>OvertimePay</th>\n",
       "      <th>OtherPay</th>\n",
       "      <th>Benefits</th>\n",
       "      <th>TotalPay</th>\n",
       "      <th>TotalPayBenefits</th>\n",
       "      <th>Year</th>\n",
       "      <th>Notes</th>\n",
       "      <th>Agency</th>\n",
       "      <th>Status</th>\n",
       "    </tr>\n",
       "  </thead>\n",
       "  <tbody>\n",
       "    <tr>\n",
       "      <th>0</th>\n",
       "      <td>1</td>\n",
       "      <td>NATHANIEL FORD</td>\n",
       "      <td>GENERAL MANAGER-METROPOLITAN TRANSIT AUTHORITY</td>\n",
       "      <td>167411.18</td>\n",
       "      <td>0.00</td>\n",
       "      <td>400184.25</td>\n",
       "      <td>NaN</td>\n",
       "      <td>567595.43</td>\n",
       "      <td>567595.43</td>\n",
       "      <td>2011</td>\n",
       "      <td>NaN</td>\n",
       "      <td>San Francisco</td>\n",
       "      <td>NaN</td>\n",
       "    </tr>\n",
       "    <tr>\n",
       "      <th>1</th>\n",
       "      <td>2</td>\n",
       "      <td>GARY JIMENEZ</td>\n",
       "      <td>CAPTAIN III (POLICE DEPARTMENT)</td>\n",
       "      <td>155966.02</td>\n",
       "      <td>245131.88</td>\n",
       "      <td>137811.38</td>\n",
       "      <td>NaN</td>\n",
       "      <td>538909.28</td>\n",
       "      <td>538909.28</td>\n",
       "      <td>2011</td>\n",
       "      <td>NaN</td>\n",
       "      <td>San Francisco</td>\n",
       "      <td>NaN</td>\n",
       "    </tr>\n",
       "    <tr>\n",
       "      <th>2</th>\n",
       "      <td>3</td>\n",
       "      <td>ALBERT PARDINI</td>\n",
       "      <td>CAPTAIN III (POLICE DEPARTMENT)</td>\n",
       "      <td>212739.13</td>\n",
       "      <td>106088.18</td>\n",
       "      <td>16452.60</td>\n",
       "      <td>NaN</td>\n",
       "      <td>335279.91</td>\n",
       "      <td>335279.91</td>\n",
       "      <td>2011</td>\n",
       "      <td>NaN</td>\n",
       "      <td>San Francisco</td>\n",
       "      <td>NaN</td>\n",
       "    </tr>\n",
       "  </tbody>\n",
       "</table>\n",
       "</div>"
      ],
      "text/plain": [
       "   Id    EmployeeName                                        JobTitle  \\\n",
       "0   1  NATHANIEL FORD  GENERAL MANAGER-METROPOLITAN TRANSIT AUTHORITY   \n",
       "1   2    GARY JIMENEZ                 CAPTAIN III (POLICE DEPARTMENT)   \n",
       "2   3  ALBERT PARDINI                 CAPTAIN III (POLICE DEPARTMENT)   \n",
       "\n",
       "     BasePay  OvertimePay   OtherPay  Benefits   TotalPay  TotalPayBenefits  \\\n",
       "0  167411.18         0.00  400184.25       NaN  567595.43         567595.43   \n",
       "1  155966.02    245131.88  137811.38       NaN  538909.28         538909.28   \n",
       "2  212739.13    106088.18   16452.60       NaN  335279.91         335279.91   \n",
       "\n",
       "   Year  Notes         Agency Status  \n",
       "0  2011    NaN  San Francisco    NaN  \n",
       "1  2011    NaN  San Francisco    NaN  \n",
       "2  2011    NaN  San Francisco    NaN  "
      ]
     },
     "execution_count": 4,
     "metadata": {},
     "output_type": "execute_result"
    }
   ],
   "source": [
    "sal.head(3)"
   ]
  },
  {
   "cell_type": "markdown",
   "id": "fef8f8d0",
   "metadata": {
    "papermill": {
     "duration": 0.005122,
     "end_time": "2024-12-26T00:53:19.770683",
     "exception": false,
     "start_time": "2024-12-26T00:53:19.765561",
     "status": "completed"
    },
    "tags": []
   },
   "source": [
    "The average BasePay of salaries in this dataset:"
   ]
  },
  {
   "cell_type": "code",
   "execution_count": 5,
   "id": "eb0f760e",
   "metadata": {
    "execution": {
     "iopub.execute_input": "2024-12-26T00:53:19.782266Z",
     "iopub.status.busy": "2024-12-26T00:53:19.781896Z",
     "iopub.status.idle": "2024-12-26T00:53:19.788166Z",
     "shell.execute_reply": "2024-12-26T00:53:19.787284Z"
    },
    "papermill": {
     "duration": 0.013863,
     "end_time": "2024-12-26T00:53:19.789735",
     "exception": false,
     "start_time": "2024-12-26T00:53:19.775872",
     "status": "completed"
    },
    "tags": []
   },
   "outputs": [
    {
     "data": {
      "text/plain": [
       "66325.4488404877"
      ]
     },
     "execution_count": 5,
     "metadata": {},
     "output_type": "execute_result"
    }
   ],
   "source": [
    "sal['BasePay'].mean()"
   ]
  },
  {
   "cell_type": "markdown",
   "id": "e7ee5858",
   "metadata": {
    "papermill": {
     "duration": 0.005141,
     "end_time": "2024-12-26T00:53:19.800327",
     "exception": false,
     "start_time": "2024-12-26T00:53:19.795186",
     "status": "completed"
    },
    "tags": []
   },
   "source": [
    "** What is the highest amount of OvertimePay in the dataset ? **"
   ]
  },
  {
   "cell_type": "code",
   "execution_count": 6,
   "id": "87f33885",
   "metadata": {
    "execution": {
     "iopub.execute_input": "2024-12-26T00:53:19.811984Z",
     "iopub.status.busy": "2024-12-26T00:53:19.811666Z",
     "iopub.status.idle": "2024-12-26T00:53:19.818992Z",
     "shell.execute_reply": "2024-12-26T00:53:19.818189Z"
    },
    "papermill": {
     "duration": 0.014818,
     "end_time": "2024-12-26T00:53:19.820436",
     "exception": false,
     "start_time": "2024-12-26T00:53:19.805618",
     "status": "completed"
    },
    "tags": []
   },
   "outputs": [
    {
     "data": {
      "text/plain": [
       "245131.88"
      ]
     },
     "execution_count": 6,
     "metadata": {},
     "output_type": "execute_result"
    }
   ],
   "source": [
    "sal['OvertimePay'].max()"
   ]
  },
  {
   "cell_type": "markdown",
   "id": "6bf12a08",
   "metadata": {
    "papermill": {
     "duration": 0.005239,
     "end_time": "2024-12-26T00:53:19.831328",
     "exception": false,
     "start_time": "2024-12-26T00:53:19.826089",
     "status": "completed"
    },
    "tags": []
   },
   "source": [
    "** What is the job title of JOSEPH DRISCOLL ? Note: Use all caps, otherwise you may get an answer that doesn't match up (there is also a lowercase Joseph Driscoll). **"
   ]
  },
  {
   "cell_type": "code",
   "execution_count": 7,
   "id": "ff5c5268",
   "metadata": {
    "execution": {
     "iopub.execute_input": "2024-12-26T00:53:19.843098Z",
     "iopub.status.busy": "2024-12-26T00:53:19.842802Z",
     "iopub.status.idle": "2024-12-26T00:53:19.861885Z",
     "shell.execute_reply": "2024-12-26T00:53:19.860954Z"
    },
    "papermill": {
     "duration": 0.026679,
     "end_time": "2024-12-26T00:53:19.863347",
     "exception": false,
     "start_time": "2024-12-26T00:53:19.836668",
     "status": "completed"
    },
    "tags": []
   },
   "outputs": [
    {
     "data": {
      "text/plain": [
       "24    CAPTAIN, FIRE SUPPRESSION\n",
       "Name: JobTitle, dtype: object"
      ]
     },
     "execution_count": 7,
     "metadata": {},
     "output_type": "execute_result"
    }
   ],
   "source": [
    "sal[sal['EmployeeName'] == 'JOSEPH DRISCOLL']['JobTitle']"
   ]
  },
  {
   "cell_type": "markdown",
   "id": "7462951e",
   "metadata": {
    "papermill": {
     "duration": 0.005406,
     "end_time": "2024-12-26T00:53:19.874672",
     "exception": false,
     "start_time": "2024-12-26T00:53:19.869266",
     "status": "completed"
    },
    "tags": []
   },
   "source": [
    "** How much does JOSEPH DRISCOLL make (including benefits)? **"
   ]
  },
  {
   "cell_type": "code",
   "execution_count": 8,
   "id": "afda2db1",
   "metadata": {
    "execution": {
     "iopub.execute_input": "2024-12-26T00:53:19.886848Z",
     "iopub.status.busy": "2024-12-26T00:53:19.886522Z",
     "iopub.status.idle": "2024-12-26T00:53:19.904471Z",
     "shell.execute_reply": "2024-12-26T00:53:19.903671Z"
    },
    "papermill": {
     "duration": 0.025775,
     "end_time": "2024-12-26T00:53:19.905999",
     "exception": false,
     "start_time": "2024-12-26T00:53:19.880224",
     "status": "completed"
    },
    "tags": []
   },
   "outputs": [
    {
     "data": {
      "text/plain": [
       "24    270324.91\n",
       "Name: TotalPayBenefits, dtype: float64"
      ]
     },
     "execution_count": 8,
     "metadata": {},
     "output_type": "execute_result"
    }
   ],
   "source": [
    "sal[sal['EmployeeName'] == 'JOSEPH DRISCOLL']['TotalPayBenefits']"
   ]
  },
  {
   "cell_type": "markdown",
   "id": "41ce95d7",
   "metadata": {
    "papermill": {
     "duration": 0.005494,
     "end_time": "2024-12-26T00:53:19.917639",
     "exception": false,
     "start_time": "2024-12-26T00:53:19.912145",
     "status": "completed"
    },
    "tags": []
   },
   "source": [
    "** What is the name of highest paid person (including benefits)?**"
   ]
  },
  {
   "cell_type": "code",
   "execution_count": 9,
   "id": "81a82771",
   "metadata": {
    "execution": {
     "iopub.execute_input": "2024-12-26T00:53:19.929862Z",
     "iopub.status.busy": "2024-12-26T00:53:19.929560Z",
     "iopub.status.idle": "2024-12-26T00:53:19.942323Z",
     "shell.execute_reply": "2024-12-26T00:53:19.941395Z"
    },
    "papermill": {
     "duration": 0.020729,
     "end_time": "2024-12-26T00:53:19.943885",
     "exception": false,
     "start_time": "2024-12-26T00:53:19.923156",
     "status": "completed"
    },
    "tags": []
   },
   "outputs": [
    {
     "data": {
      "text/html": [
       "<div>\n",
       "<style scoped>\n",
       "    .dataframe tbody tr th:only-of-type {\n",
       "        vertical-align: middle;\n",
       "    }\n",
       "\n",
       "    .dataframe tbody tr th {\n",
       "        vertical-align: top;\n",
       "    }\n",
       "\n",
       "    .dataframe thead th {\n",
       "        text-align: right;\n",
       "    }\n",
       "</style>\n",
       "<table border=\"1\" class=\"dataframe\">\n",
       "  <thead>\n",
       "    <tr style=\"text-align: right;\">\n",
       "      <th></th>\n",
       "      <th>Id</th>\n",
       "      <th>EmployeeName</th>\n",
       "      <th>JobTitle</th>\n",
       "      <th>BasePay</th>\n",
       "      <th>OvertimePay</th>\n",
       "      <th>OtherPay</th>\n",
       "      <th>Benefits</th>\n",
       "      <th>TotalPay</th>\n",
       "      <th>TotalPayBenefits</th>\n",
       "      <th>Year</th>\n",
       "      <th>Notes</th>\n",
       "      <th>Agency</th>\n",
       "      <th>Status</th>\n",
       "    </tr>\n",
       "  </thead>\n",
       "  <tbody>\n",
       "    <tr>\n",
       "      <th>0</th>\n",
       "      <td>1</td>\n",
       "      <td>NATHANIEL FORD</td>\n",
       "      <td>GENERAL MANAGER-METROPOLITAN TRANSIT AUTHORITY</td>\n",
       "      <td>167411.18</td>\n",
       "      <td>0.0</td>\n",
       "      <td>400184.25</td>\n",
       "      <td>NaN</td>\n",
       "      <td>567595.43</td>\n",
       "      <td>567595.43</td>\n",
       "      <td>2011</td>\n",
       "      <td>NaN</td>\n",
       "      <td>San Francisco</td>\n",
       "      <td>NaN</td>\n",
       "    </tr>\n",
       "  </tbody>\n",
       "</table>\n",
       "</div>"
      ],
      "text/plain": [
       "   Id    EmployeeName                                        JobTitle  \\\n",
       "0   1  NATHANIEL FORD  GENERAL MANAGER-METROPOLITAN TRANSIT AUTHORITY   \n",
       "\n",
       "     BasePay  OvertimePay   OtherPay  Benefits   TotalPay  TotalPayBenefits  \\\n",
       "0  167411.18          0.0  400184.25       NaN  567595.43         567595.43   \n",
       "\n",
       "   Year  Notes         Agency Status  \n",
       "0  2011    NaN  San Francisco    NaN  "
      ]
     },
     "execution_count": 9,
     "metadata": {},
     "output_type": "execute_result"
    }
   ],
   "source": [
    "sal.loc[[sal['TotalPayBenefits'].argmax()]]"
   ]
  },
  {
   "cell_type": "markdown",
   "id": "7bdd32cc",
   "metadata": {
    "papermill": {
     "duration": 0.005503,
     "end_time": "2024-12-26T00:53:19.955280",
     "exception": false,
     "start_time": "2024-12-26T00:53:19.949777",
     "status": "completed"
    },
    "tags": []
   },
   "source": [
    "** What is the name of lowest paid person (including benefits)? Do you notice something strange about how much he or she is paid?**"
   ]
  },
  {
   "cell_type": "code",
   "execution_count": 10,
   "id": "4fe7cbde",
   "metadata": {
    "execution": {
     "iopub.execute_input": "2024-12-26T00:53:19.967957Z",
     "iopub.status.busy": "2024-12-26T00:53:19.967651Z",
     "iopub.status.idle": "2024-12-26T00:53:19.980692Z",
     "shell.execute_reply": "2024-12-26T00:53:19.979813Z"
    },
    "papermill": {
     "duration": 0.021019,
     "end_time": "2024-12-26T00:53:19.982063",
     "exception": false,
     "start_time": "2024-12-26T00:53:19.961044",
     "status": "completed"
    },
    "tags": []
   },
   "outputs": [
    {
     "data": {
      "text/html": [
       "<div>\n",
       "<style scoped>\n",
       "    .dataframe tbody tr th:only-of-type {\n",
       "        vertical-align: middle;\n",
       "    }\n",
       "\n",
       "    .dataframe tbody tr th {\n",
       "        vertical-align: top;\n",
       "    }\n",
       "\n",
       "    .dataframe thead th {\n",
       "        text-align: right;\n",
       "    }\n",
       "</style>\n",
       "<table border=\"1\" class=\"dataframe\">\n",
       "  <thead>\n",
       "    <tr style=\"text-align: right;\">\n",
       "      <th></th>\n",
       "      <th>Id</th>\n",
       "      <th>EmployeeName</th>\n",
       "      <th>JobTitle</th>\n",
       "      <th>BasePay</th>\n",
       "      <th>OvertimePay</th>\n",
       "      <th>OtherPay</th>\n",
       "      <th>Benefits</th>\n",
       "      <th>TotalPay</th>\n",
       "      <th>TotalPayBenefits</th>\n",
       "      <th>Year</th>\n",
       "      <th>Notes</th>\n",
       "      <th>Agency</th>\n",
       "      <th>Status</th>\n",
       "    </tr>\n",
       "  </thead>\n",
       "  <tbody>\n",
       "    <tr>\n",
       "      <th>148653</th>\n",
       "      <td>148654</td>\n",
       "      <td>Joe Lopez</td>\n",
       "      <td>Counselor, Log Cabin Ranch</td>\n",
       "      <td>0.0</td>\n",
       "      <td>0.0</td>\n",
       "      <td>-618.13</td>\n",
       "      <td>0.0</td>\n",
       "      <td>-618.13</td>\n",
       "      <td>-618.13</td>\n",
       "      <td>2014</td>\n",
       "      <td>NaN</td>\n",
       "      <td>San Francisco</td>\n",
       "      <td>PT</td>\n",
       "    </tr>\n",
       "  </tbody>\n",
       "</table>\n",
       "</div>"
      ],
      "text/plain": [
       "            Id EmployeeName                    JobTitle  BasePay  OvertimePay  \\\n",
       "148653  148654    Joe Lopez  Counselor, Log Cabin Ranch      0.0          0.0   \n",
       "\n",
       "        OtherPay  Benefits  TotalPay  TotalPayBenefits  Year  Notes  \\\n",
       "148653   -618.13       0.0   -618.13           -618.13  2014    NaN   \n",
       "\n",
       "               Agency Status  \n",
       "148653  San Francisco     PT  "
      ]
     },
     "execution_count": 10,
     "metadata": {},
     "output_type": "execute_result"
    }
   ],
   "source": [
    "sal.loc[[sal['TotalPayBenefits'].argmin()]]"
   ]
  },
  {
   "cell_type": "markdown",
   "id": "7bb71916",
   "metadata": {
    "papermill": {
     "duration": 0.005827,
     "end_time": "2024-12-26T00:53:19.994110",
     "exception": false,
     "start_time": "2024-12-26T00:53:19.988283",
     "status": "completed"
    },
    "tags": []
   },
   "source": [
    "Joe Lopez was the lowest paid employee in San Francisco with a deficit pay of -618.13"
   ]
  },
  {
   "cell_type": "markdown",
   "id": "32401b2b",
   "metadata": {
    "papermill": {
     "duration": 0.005595,
     "end_time": "2024-12-26T00:53:20.005643",
     "exception": false,
     "start_time": "2024-12-26T00:53:20.000048",
     "status": "completed"
    },
    "tags": []
   },
   "source": [
    "** What was the average (mean) BasePay of all employees per year? (2011-2014) ? **"
   ]
  },
  {
   "cell_type": "code",
   "execution_count": 11,
   "id": "6a0845be",
   "metadata": {
    "execution": {
     "iopub.execute_input": "2024-12-26T00:53:20.018334Z",
     "iopub.status.busy": "2024-12-26T00:53:20.018029Z",
     "iopub.status.idle": "2024-12-26T00:53:20.038976Z",
     "shell.execute_reply": "2024-12-26T00:53:20.038099Z"
    },
    "papermill": {
     "duration": 0.028905,
     "end_time": "2024-12-26T00:53:20.040414",
     "exception": false,
     "start_time": "2024-12-26T00:53:20.011509",
     "status": "completed"
    },
    "tags": []
   },
   "outputs": [
    {
     "data": {
      "text/plain": [
       "Year\n",
       "2011    63595.956517\n",
       "2012    65436.406857\n",
       "2013    69630.030216\n",
       "2014    66564.421924\n",
       "Name: BasePay, dtype: float64"
      ]
     },
     "execution_count": 11,
     "metadata": {},
     "output_type": "execute_result"
    }
   ],
   "source": [
    "sal.groupby('Year').mean(numeric_only = True)['BasePay']"
   ]
  },
  {
   "cell_type": "markdown",
   "id": "e97d5a59",
   "metadata": {
    "papermill": {
     "duration": 0.006875,
     "end_time": "2024-12-26T00:53:20.053635",
     "exception": false,
     "start_time": "2024-12-26T00:53:20.046760",
     "status": "completed"
    },
    "tags": []
   },
   "source": [
    "** How many unique job titles are there? **"
   ]
  },
  {
   "cell_type": "code",
   "execution_count": 12,
   "id": "515bfe79",
   "metadata": {
    "execution": {
     "iopub.execute_input": "2024-12-26T00:53:20.066961Z",
     "iopub.status.busy": "2024-12-26T00:53:20.066634Z",
     "iopub.status.idle": "2024-12-26T00:53:20.081449Z",
     "shell.execute_reply": "2024-12-26T00:53:20.080594Z"
    },
    "papermill": {
     "duration": 0.023439,
     "end_time": "2024-12-26T00:53:20.083179",
     "exception": false,
     "start_time": "2024-12-26T00:53:20.059740",
     "status": "completed"
    },
    "tags": []
   },
   "outputs": [
    {
     "data": {
      "text/plain": [
       "2159"
      ]
     },
     "execution_count": 12,
     "metadata": {},
     "output_type": "execute_result"
    }
   ],
   "source": [
    "sal['JobTitle'].nunique()"
   ]
  },
  {
   "cell_type": "markdown",
   "id": "b3432a5d",
   "metadata": {
    "execution": {
     "iopub.execute_input": "2024-12-25T23:44:29.007012Z",
     "iopub.status.busy": "2024-12-25T23:44:29.006578Z",
     "iopub.status.idle": "2024-12-25T23:44:29.014201Z",
     "shell.execute_reply": "2024-12-25T23:44:29.012734Z",
     "shell.execute_reply.started": "2024-12-25T23:44:29.006984Z"
    },
    "papermill": {
     "duration": 0.005899,
     "end_time": "2024-12-26T00:53:20.095562",
     "exception": false,
     "start_time": "2024-12-26T00:53:20.089663",
     "status": "completed"
    },
    "tags": []
   },
   "source": [
    "** What are the top 5 most common jobs? **"
   ]
  },
  {
   "cell_type": "code",
   "execution_count": 13,
   "id": "4f19795e",
   "metadata": {
    "execution": {
     "iopub.execute_input": "2024-12-26T00:53:20.108897Z",
     "iopub.status.busy": "2024-12-26T00:53:20.108594Z",
     "iopub.status.idle": "2024-12-26T00:53:20.125286Z",
     "shell.execute_reply": "2024-12-26T00:53:20.124453Z"
    },
    "papermill": {
     "duration": 0.02514,
     "end_time": "2024-12-26T00:53:20.126745",
     "exception": false,
     "start_time": "2024-12-26T00:53:20.101605",
     "status": "completed"
    },
    "tags": []
   },
   "outputs": [
    {
     "data": {
      "text/plain": [
       "JobTitle\n",
       "Transit Operator                7036\n",
       "Special Nurse                   4389\n",
       "Registered Nurse                3736\n",
       "Public Svc Aide-Public Works    2518\n",
       "Police Officer 3                2421\n",
       "Name: count, dtype: int64"
      ]
     },
     "execution_count": 13,
     "metadata": {},
     "output_type": "execute_result"
    }
   ],
   "source": [
    "sal['JobTitle'].value_counts().head(5)"
   ]
  },
  {
   "cell_type": "markdown",
   "id": "0bdd458f",
   "metadata": {
    "papermill": {
     "duration": 0.005925,
     "end_time": "2024-12-26T00:53:20.139073",
     "exception": false,
     "start_time": "2024-12-26T00:53:20.133148",
     "status": "completed"
    },
    "tags": []
   },
   "source": [
    "** How many Job Titles were represented by only one person in 2013? (e.g. Job Titles with only one occurence in 2013?) **"
   ]
  },
  {
   "cell_type": "code",
   "execution_count": 14,
   "id": "2293ca11",
   "metadata": {
    "execution": {
     "iopub.execute_input": "2024-12-26T00:53:20.152706Z",
     "iopub.status.busy": "2024-12-26T00:53:20.152330Z",
     "iopub.status.idle": "2024-12-26T00:53:20.164889Z",
     "shell.execute_reply": "2024-12-26T00:53:20.163989Z"
    },
    "papermill": {
     "duration": 0.021198,
     "end_time": "2024-12-26T00:53:20.166427",
     "exception": false,
     "start_time": "2024-12-26T00:53:20.145229",
     "status": "completed"
    },
    "tags": []
   },
   "outputs": [
    {
     "data": {
      "text/plain": [
       "202"
      ]
     },
     "execution_count": 14,
     "metadata": {},
     "output_type": "execute_result"
    }
   ],
   "source": [
    "sal[sal['Year'] == 2013]['JobTitle'].value_counts()[lambda x: x == 1].count()"
   ]
  },
  {
   "cell_type": "markdown",
   "id": "01fc8d81",
   "metadata": {
    "papermill": {
     "duration": 0.005999,
     "end_time": "2024-12-26T00:53:20.178832",
     "exception": false,
     "start_time": "2024-12-26T00:53:20.172833",
     "status": "completed"
    },
    "tags": []
   },
   "source": [
    "** How many people have the word Chief in their job title? (This is pretty tricky) **"
   ]
  },
  {
   "cell_type": "code",
   "execution_count": 15,
   "id": "11c4aea9",
   "metadata": {
    "execution": {
     "iopub.execute_input": "2024-12-26T00:53:20.192617Z",
     "iopub.status.busy": "2024-12-26T00:53:20.192260Z",
     "iopub.status.idle": "2024-12-26T00:53:20.320267Z",
     "shell.execute_reply": "2024-12-26T00:53:20.319330Z"
    },
    "papermill": {
     "duration": 0.136647,
     "end_time": "2024-12-26T00:53:20.321770",
     "exception": false,
     "start_time": "2024-12-26T00:53:20.185123",
     "status": "completed"
    },
    "tags": []
   },
   "outputs": [
    {
     "data": {
      "text/plain": [
       "627"
      ]
     },
     "execution_count": 15,
     "metadata": {},
     "output_type": "execute_result"
    }
   ],
   "source": [
    "sal['JobTitle'].str.contains(r'\\bChief\\b', case = False, regex = True).sum()"
   ]
  },
  {
   "cell_type": "markdown",
   "id": "58e2ab1d",
   "metadata": {
    "papermill": {
     "duration": 0.006303,
     "end_time": "2024-12-26T00:53:20.334769",
     "exception": false,
     "start_time": "2024-12-26T00:53:20.328466",
     "status": "completed"
    },
    "tags": []
   },
   "source": [
    "** Bonus: Is there a correlation between length of the Job Title string and Salary? **"
   ]
  },
  {
   "cell_type": "code",
   "execution_count": 16,
   "id": "4f4996b6",
   "metadata": {
    "execution": {
     "iopub.execute_input": "2024-12-26T00:53:20.348495Z",
     "iopub.status.busy": "2024-12-26T00:53:20.348149Z",
     "iopub.status.idle": "2024-12-26T00:53:20.401550Z",
     "shell.execute_reply": "2024-12-26T00:53:20.400589Z"
    },
    "papermill": {
     "duration": 0.062199,
     "end_time": "2024-12-26T00:53:20.403210",
     "exception": false,
     "start_time": "2024-12-26T00:53:20.341011",
     "status": "completed"
    },
    "tags": []
   },
   "outputs": [
    {
     "data": {
      "text/plain": [
       "-0.036878445932606675"
      ]
     },
     "execution_count": 16,
     "metadata": {},
     "output_type": "execute_result"
    }
   ],
   "source": [
    "sal['JobTitle'].str.len().corr(sal['TotalPayBenefits'])"
   ]
  }
 ],
 "metadata": {
  "kaggle": {
   "accelerator": "none",
   "dataSources": [
    {
     "datasetId": 14,
     "sourceId": 827864,
     "sourceType": "datasetVersion"
    }
   ],
   "dockerImageVersionId": 30822,
   "isGpuEnabled": false,
   "isInternetEnabled": true,
   "language": "python",
   "sourceType": "notebook"
  },
  "kernelspec": {
   "display_name": "Python 3",
   "language": "python",
   "name": "python3"
  },
  "language_info": {
   "codemirror_mode": {
    "name": "ipython",
    "version": 3
   },
   "file_extension": ".py",
   "mimetype": "text/x-python",
   "name": "python",
   "nbconvert_exporter": "python",
   "pygments_lexer": "ipython3",
   "version": "3.10.12"
  },
  "papermill": {
   "default_parameters": {},
   "duration": 4.367999,
   "end_time": "2024-12-26T00:53:20.929189",
   "environment_variables": {},
   "exception": null,
   "input_path": "__notebook__.ipynb",
   "output_path": "__notebook__.ipynb",
   "parameters": {},
   "start_time": "2024-12-26T00:53:16.561190",
   "version": "2.6.0"
  }
 },
 "nbformat": 4,
 "nbformat_minor": 5
}
