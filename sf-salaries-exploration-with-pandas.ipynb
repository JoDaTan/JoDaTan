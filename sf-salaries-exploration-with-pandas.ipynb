{
 "cells": [
  {
   "cell_type": "markdown",
   "id": "81e6f2d8",
   "metadata": {
    "papermill": {
     "duration": 0.006063,
     "end_time": "2024-12-26T01:10:45.300467",
     "exception": false,
     "start_time": "2024-12-26T01:10:45.294404",
     "status": "completed"
    },
    "tags": []
   },
   "source": [
    "# SF Salaries Data Exploration with Pandas"
   ]
  },
  {
   "cell_type": "code",
   "execution_count": 1,
   "id": "946e7b64",
   "metadata": {
    "_cell_guid": "b1076dfc-b9ad-4769-8c92-a6c4dae69d19",
    "_uuid": "8f2839f25d086af736a60e9eeb907d3b93b6e0e5",
    "execution": {
     "iopub.execute_input": "2024-12-26T01:10:45.312427Z",
     "iopub.status.busy": "2024-12-26T01:10:45.312099Z",
     "iopub.status.idle": "2024-12-26T01:10:45.697096Z",
     "shell.execute_reply": "2024-12-26T01:10:45.695893Z"
    },
    "papermill": {
     "duration": 0.392723,
     "end_time": "2024-12-26T01:10:45.698671",
     "exception": false,
     "start_time": "2024-12-26T01:10:45.305948",
     "status": "completed"
    },
    "tags": []
   },
   "outputs": [
    {
     "name": "stdout",
     "output_type": "stream",
     "text": [
      "/kaggle/input/sf-salaries/Salaries.csv\n",
      "/kaggle/input/sf-salaries/database.sqlite\n"
     ]
    }
   ],
   "source": [
    "# This Python 3 environment comes with many helpful analytics libraries installed\n",
    "# It is defined by the kaggle/python Docker image: https://github.com/kaggle/docker-python\n",
    "# For example, here's several helpful packages to load\n",
    "\n",
    "import numpy as np # linear algebra\n",
    "import pandas as pd # data processing, CSV file I/O (e.g. pd.read_csv)\n",
    "\n",
    "# Input data files are available in the read-only \"../input/\" directory\n",
    "# For example, running this (by clicking run or pressing Shift+Enter) will list all files under the input directory\n",
    "\n",
    "import os\n",
    "for dirname, _, filenames in os.walk('/kaggle/input'):\n",
    "    for filename in filenames:\n",
    "        print(os.path.join(dirname, filename))\n",
    "\n",
    "# You can write up to 20GB to the current directory (/kaggle/working/) that gets preserved as output when you create a version using \"Save & Run All\" \n",
    "# You can also write temporary files to /kaggle/temp/, but they won't be saved outside of the current session"
   ]
  },
  {
   "cell_type": "code",
   "execution_count": 2,
   "id": "5760da2e",
   "metadata": {
    "execution": {
     "iopub.execute_input": "2024-12-26T01:10:45.710961Z",
     "iopub.status.busy": "2024-12-26T01:10:45.710481Z",
     "iopub.status.idle": "2024-12-26T01:10:46.481017Z",
     "shell.execute_reply": "2024-12-26T01:10:46.479887Z"
    },
    "papermill": {
     "duration": 0.778265,
     "end_time": "2024-12-26T01:10:46.482584",
     "exception": false,
     "start_time": "2024-12-26T01:10:45.704319",
     "status": "completed"
    },
    "tags": []
   },
   "outputs": [
    {
     "name": "stderr",
     "output_type": "stream",
     "text": [
      "<ipython-input-2-2a12daf4a160>:1: DtypeWarning: Columns (3,4,5,6,12) have mixed types. Specify dtype option on import or set low_memory=False.\n",
      "  sal = pd.read_csv('/kaggle/input/sf-salaries/Salaries.csv')\n"
     ]
    }
   ],
   "source": [
    "sal = pd.read_csv('/kaggle/input/sf-salaries/Salaries.csv')\n",
    "\n",
    "\n",
    "# the for loop below is to ensure consistency on the datatype of values provided in columns; BasePay, OvertimePay, OtherPay and Benefits. \n",
    "\n",
    "for col in sal[['BasePay','OvertimePay','OtherPay','Benefits']].select_dtypes(include=['object']).columns:\n",
    "    sal[col] = pd.to_numeric(sal[col], errors = 'coerce')"
   ]
  },
  {
   "cell_type": "code",
   "execution_count": 3,
   "id": "8acade4b",
   "metadata": {
    "execution": {
     "iopub.execute_input": "2024-12-26T01:10:46.494951Z",
     "iopub.status.busy": "2024-12-26T01:10:46.494568Z",
     "iopub.status.idle": "2024-12-26T01:10:46.542045Z",
     "shell.execute_reply": "2024-12-26T01:10:46.540683Z"
    },
    "papermill": {
     "duration": 0.055619,
     "end_time": "2024-12-26T01:10:46.543740",
     "exception": false,
     "start_time": "2024-12-26T01:10:46.488121",
     "status": "completed"
    },
    "tags": []
   },
   "outputs": [
    {
     "name": "stdout",
     "output_type": "stream",
     "text": [
      "<class 'pandas.core.frame.DataFrame'>\n",
      "RangeIndex: 148654 entries, 0 to 148653\n",
      "Data columns (total 13 columns):\n",
      " #   Column            Non-Null Count   Dtype  \n",
      "---  ------            --------------   -----  \n",
      " 0   Id                148654 non-null  int64  \n",
      " 1   EmployeeName      148654 non-null  object \n",
      " 2   JobTitle          148654 non-null  object \n",
      " 3   BasePay           148045 non-null  float64\n",
      " 4   OvertimePay       148650 non-null  float64\n",
      " 5   OtherPay          148650 non-null  float64\n",
      " 6   Benefits          112491 non-null  float64\n",
      " 7   TotalPay          148654 non-null  float64\n",
      " 8   TotalPayBenefits  148654 non-null  float64\n",
      " 9   Year              148654 non-null  int64  \n",
      " 10  Notes             0 non-null       float64\n",
      " 11  Agency            148654 non-null  object \n",
      " 12  Status            38119 non-null   object \n",
      "dtypes: float64(7), int64(2), object(4)\n",
      "memory usage: 14.7+ MB\n"
     ]
    }
   ],
   "source": [
    "sal.info()"
   ]
  },
  {
   "cell_type": "code",
   "execution_count": 4,
   "id": "9ed3c5bf",
   "metadata": {
    "execution": {
     "iopub.execute_input": "2024-12-26T01:10:46.556129Z",
     "iopub.status.busy": "2024-12-26T01:10:46.555790Z",
     "iopub.status.idle": "2024-12-26T01:10:46.575009Z",
     "shell.execute_reply": "2024-12-26T01:10:46.573877Z"
    },
    "papermill": {
     "duration": 0.02765,
     "end_time": "2024-12-26T01:10:46.576894",
     "exception": false,
     "start_time": "2024-12-26T01:10:46.549244",
     "status": "completed"
    },
    "tags": []
   },
   "outputs": [
    {
     "data": {
      "text/html": [
       "<div>\n",
       "<style scoped>\n",
       "    .dataframe tbody tr th:only-of-type {\n",
       "        vertical-align: middle;\n",
       "    }\n",
       "\n",
       "    .dataframe tbody tr th {\n",
       "        vertical-align: top;\n",
       "    }\n",
       "\n",
       "    .dataframe thead th {\n",
       "        text-align: right;\n",
       "    }\n",
       "</style>\n",
       "<table border=\"1\" class=\"dataframe\">\n",
       "  <thead>\n",
       "    <tr style=\"text-align: right;\">\n",
       "      <th></th>\n",
       "      <th>Id</th>\n",
       "      <th>EmployeeName</th>\n",
       "      <th>JobTitle</th>\n",
       "      <th>BasePay</th>\n",
       "      <th>OvertimePay</th>\n",
       "      <th>OtherPay</th>\n",
       "      <th>Benefits</th>\n",
       "      <th>TotalPay</th>\n",
       "      <th>TotalPayBenefits</th>\n",
       "      <th>Year</th>\n",
       "      <th>Notes</th>\n",
       "      <th>Agency</th>\n",
       "      <th>Status</th>\n",
       "    </tr>\n",
       "  </thead>\n",
       "  <tbody>\n",
       "    <tr>\n",
       "      <th>0</th>\n",
       "      <td>1</td>\n",
       "      <td>NATHANIEL FORD</td>\n",
       "      <td>GENERAL MANAGER-METROPOLITAN TRANSIT AUTHORITY</td>\n",
       "      <td>167411.18</td>\n",
       "      <td>0.00</td>\n",
       "      <td>400184.25</td>\n",
       "      <td>NaN</td>\n",
       "      <td>567595.43</td>\n",
       "      <td>567595.43</td>\n",
       "      <td>2011</td>\n",
       "      <td>NaN</td>\n",
       "      <td>San Francisco</td>\n",
       "      <td>NaN</td>\n",
       "    </tr>\n",
       "    <tr>\n",
       "      <th>1</th>\n",
       "      <td>2</td>\n",
       "      <td>GARY JIMENEZ</td>\n",
       "      <td>CAPTAIN III (POLICE DEPARTMENT)</td>\n",
       "      <td>155966.02</td>\n",
       "      <td>245131.88</td>\n",
       "      <td>137811.38</td>\n",
       "      <td>NaN</td>\n",
       "      <td>538909.28</td>\n",
       "      <td>538909.28</td>\n",
       "      <td>2011</td>\n",
       "      <td>NaN</td>\n",
       "      <td>San Francisco</td>\n",
       "      <td>NaN</td>\n",
       "    </tr>\n",
       "    <tr>\n",
       "      <th>2</th>\n",
       "      <td>3</td>\n",
       "      <td>ALBERT PARDINI</td>\n",
       "      <td>CAPTAIN III (POLICE DEPARTMENT)</td>\n",
       "      <td>212739.13</td>\n",
       "      <td>106088.18</td>\n",
       "      <td>16452.60</td>\n",
       "      <td>NaN</td>\n",
       "      <td>335279.91</td>\n",
       "      <td>335279.91</td>\n",
       "      <td>2011</td>\n",
       "      <td>NaN</td>\n",
       "      <td>San Francisco</td>\n",
       "      <td>NaN</td>\n",
       "    </tr>\n",
       "  </tbody>\n",
       "</table>\n",
       "</div>"
      ],
      "text/plain": [
       "   Id    EmployeeName                                        JobTitle  \\\n",
       "0   1  NATHANIEL FORD  GENERAL MANAGER-METROPOLITAN TRANSIT AUTHORITY   \n",
       "1   2    GARY JIMENEZ                 CAPTAIN III (POLICE DEPARTMENT)   \n",
       "2   3  ALBERT PARDINI                 CAPTAIN III (POLICE DEPARTMENT)   \n",
       "\n",
       "     BasePay  OvertimePay   OtherPay  Benefits   TotalPay  TotalPayBenefits  \\\n",
       "0  167411.18         0.00  400184.25       NaN  567595.43         567595.43   \n",
       "1  155966.02    245131.88  137811.38       NaN  538909.28         538909.28   \n",
       "2  212739.13    106088.18   16452.60       NaN  335279.91         335279.91   \n",
       "\n",
       "   Year  Notes         Agency Status  \n",
       "0  2011    NaN  San Francisco    NaN  \n",
       "1  2011    NaN  San Francisco    NaN  \n",
       "2  2011    NaN  San Francisco    NaN  "
      ]
     },
     "execution_count": 4,
     "metadata": {},
     "output_type": "execute_result"
    }
   ],
   "source": [
    "sal.head(3)"
   ]
  },
  {
   "cell_type": "markdown",
   "id": "ac911b15",
   "metadata": {
    "papermill": {
     "duration": 0.005459,
     "end_time": "2024-12-26T01:10:46.588041",
     "exception": false,
     "start_time": "2024-12-26T01:10:46.582582",
     "status": "completed"
    },
    "tags": []
   },
   "source": [
    "The average BasePay of salaries in this dataset:"
   ]
  },
  {
   "cell_type": "code",
   "execution_count": 5,
   "id": "59c0921f",
   "metadata": {
    "execution": {
     "iopub.execute_input": "2024-12-26T01:10:46.600360Z",
     "iopub.status.busy": "2024-12-26T01:10:46.600047Z",
     "iopub.status.idle": "2024-12-26T01:10:46.605930Z",
     "shell.execute_reply": "2024-12-26T01:10:46.605114Z"
    },
    "papermill": {
     "duration": 0.013756,
     "end_time": "2024-12-26T01:10:46.607336",
     "exception": false,
     "start_time": "2024-12-26T01:10:46.593580",
     "status": "completed"
    },
    "tags": []
   },
   "outputs": [
    {
     "data": {
      "text/plain": [
       "66325.4488404877"
      ]
     },
     "execution_count": 5,
     "metadata": {},
     "output_type": "execute_result"
    }
   ],
   "source": [
    "sal['BasePay'].mean()"
   ]
  },
  {
   "cell_type": "markdown",
   "id": "a7765c9d",
   "metadata": {
    "papermill": {
     "duration": 0.005484,
     "end_time": "2024-12-26T01:10:46.618468",
     "exception": false,
     "start_time": "2024-12-26T01:10:46.612984",
     "status": "completed"
    },
    "tags": []
   },
   "source": [
    "** What is the highest amount of OvertimePay in the dataset ? **"
   ]
  },
  {
   "cell_type": "code",
   "execution_count": 6,
   "id": "d2d3fc38",
   "metadata": {
    "execution": {
     "iopub.execute_input": "2024-12-26T01:10:46.631094Z",
     "iopub.status.busy": "2024-12-26T01:10:46.630756Z",
     "iopub.status.idle": "2024-12-26T01:10:46.637665Z",
     "shell.execute_reply": "2024-12-26T01:10:46.636813Z"
    },
    "papermill": {
     "duration": 0.014933,
     "end_time": "2024-12-26T01:10:46.639040",
     "exception": false,
     "start_time": "2024-12-26T01:10:46.624107",
     "status": "completed"
    },
    "tags": []
   },
   "outputs": [
    {
     "data": {
      "text/plain": [
       "245131.88"
      ]
     },
     "execution_count": 6,
     "metadata": {},
     "output_type": "execute_result"
    }
   ],
   "source": [
    "sal['OvertimePay'].max()"
   ]
  },
  {
   "cell_type": "markdown",
   "id": "eb99bd18",
   "metadata": {
    "papermill": {
     "duration": 0.005537,
     "end_time": "2024-12-26T01:10:46.650436",
     "exception": false,
     "start_time": "2024-12-26T01:10:46.644899",
     "status": "completed"
    },
    "tags": []
   },
   "source": [
    "** What is the job title of JOSEPH DRISCOLL ? Note: Use all caps, otherwise you may get an answer that doesn't match up (there is also a lowercase Joseph Driscoll). **"
   ]
  },
  {
   "cell_type": "code",
   "execution_count": 7,
   "id": "a483609c",
   "metadata": {
    "execution": {
     "iopub.execute_input": "2024-12-26T01:10:46.663078Z",
     "iopub.status.busy": "2024-12-26T01:10:46.662732Z",
     "iopub.status.idle": "2024-12-26T01:10:46.682652Z",
     "shell.execute_reply": "2024-12-26T01:10:46.681730Z"
    },
    "papermill": {
     "duration": 0.028303,
     "end_time": "2024-12-26T01:10:46.684418",
     "exception": false,
     "start_time": "2024-12-26T01:10:46.656115",
     "status": "completed"
    },
    "tags": []
   },
   "outputs": [
    {
     "data": {
      "text/plain": [
       "24    CAPTAIN, FIRE SUPPRESSION\n",
       "Name: JobTitle, dtype: object"
      ]
     },
     "execution_count": 7,
     "metadata": {},
     "output_type": "execute_result"
    }
   ],
   "source": [
    "sal[sal['EmployeeName'] == 'JOSEPH DRISCOLL']['JobTitle']"
   ]
  },
  {
   "cell_type": "markdown",
   "id": "24f11ec2",
   "metadata": {
    "papermill": {
     "duration": 0.005758,
     "end_time": "2024-12-26T01:10:46.696258",
     "exception": false,
     "start_time": "2024-12-26T01:10:46.690500",
     "status": "completed"
    },
    "tags": []
   },
   "source": [
    "** How much does JOSEPH DRISCOLL make (including benefits)? **"
   ]
  },
  {
   "cell_type": "code",
   "execution_count": 8,
   "id": "f65217d6",
   "metadata": {
    "execution": {
     "iopub.execute_input": "2024-12-26T01:10:46.709390Z",
     "iopub.status.busy": "2024-12-26T01:10:46.709075Z",
     "iopub.status.idle": "2024-12-26T01:10:46.727542Z",
     "shell.execute_reply": "2024-12-26T01:10:46.726472Z"
    },
    "papermill": {
     "duration": 0.027223,
     "end_time": "2024-12-26T01:10:46.729338",
     "exception": false,
     "start_time": "2024-12-26T01:10:46.702115",
     "status": "completed"
    },
    "tags": []
   },
   "outputs": [
    {
     "data": {
      "text/plain": [
       "24    270324.91\n",
       "Name: TotalPayBenefits, dtype: float64"
      ]
     },
     "execution_count": 8,
     "metadata": {},
     "output_type": "execute_result"
    }
   ],
   "source": [
    "sal[sal['EmployeeName'] == 'JOSEPH DRISCOLL']['TotalPayBenefits']"
   ]
  },
  {
   "cell_type": "markdown",
   "id": "ff0ddc06",
   "metadata": {
    "papermill": {
     "duration": 0.005958,
     "end_time": "2024-12-26T01:10:46.741978",
     "exception": false,
     "start_time": "2024-12-26T01:10:46.736020",
     "status": "completed"
    },
    "tags": []
   },
   "source": [
    "** What is the name of highest paid person (including benefits)?**"
   ]
  },
  {
   "cell_type": "code",
   "execution_count": 9,
   "id": "826c836d",
   "metadata": {
    "execution": {
     "iopub.execute_input": "2024-12-26T01:10:46.755170Z",
     "iopub.status.busy": "2024-12-26T01:10:46.754823Z",
     "iopub.status.idle": "2024-12-26T01:10:46.769153Z",
     "shell.execute_reply": "2024-12-26T01:10:46.768169Z"
    },
    "papermill": {
     "duration": 0.023006,
     "end_time": "2024-12-26T01:10:46.770902",
     "exception": false,
     "start_time": "2024-12-26T01:10:46.747896",
     "status": "completed"
    },
    "tags": []
   },
   "outputs": [
    {
     "data": {
      "text/html": [
       "<div>\n",
       "<style scoped>\n",
       "    .dataframe tbody tr th:only-of-type {\n",
       "        vertical-align: middle;\n",
       "    }\n",
       "\n",
       "    .dataframe tbody tr th {\n",
       "        vertical-align: top;\n",
       "    }\n",
       "\n",
       "    .dataframe thead th {\n",
       "        text-align: right;\n",
       "    }\n",
       "</style>\n",
       "<table border=\"1\" class=\"dataframe\">\n",
       "  <thead>\n",
       "    <tr style=\"text-align: right;\">\n",
       "      <th></th>\n",
       "      <th>Id</th>\n",
       "      <th>EmployeeName</th>\n",
       "      <th>JobTitle</th>\n",
       "      <th>BasePay</th>\n",
       "      <th>OvertimePay</th>\n",
       "      <th>OtherPay</th>\n",
       "      <th>Benefits</th>\n",
       "      <th>TotalPay</th>\n",
       "      <th>TotalPayBenefits</th>\n",
       "      <th>Year</th>\n",
       "      <th>Notes</th>\n",
       "      <th>Agency</th>\n",
       "      <th>Status</th>\n",
       "    </tr>\n",
       "  </thead>\n",
       "  <tbody>\n",
       "    <tr>\n",
       "      <th>0</th>\n",
       "      <td>1</td>\n",
       "      <td>NATHANIEL FORD</td>\n",
       "      <td>GENERAL MANAGER-METROPOLITAN TRANSIT AUTHORITY</td>\n",
       "      <td>167411.18</td>\n",
       "      <td>0.0</td>\n",
       "      <td>400184.25</td>\n",
       "      <td>NaN</td>\n",
       "      <td>567595.43</td>\n",
       "      <td>567595.43</td>\n",
       "      <td>2011</td>\n",
       "      <td>NaN</td>\n",
       "      <td>San Francisco</td>\n",
       "      <td>NaN</td>\n",
       "    </tr>\n",
       "  </tbody>\n",
       "</table>\n",
       "</div>"
      ],
      "text/plain": [
       "   Id    EmployeeName                                        JobTitle  \\\n",
       "0   1  NATHANIEL FORD  GENERAL MANAGER-METROPOLITAN TRANSIT AUTHORITY   \n",
       "\n",
       "     BasePay  OvertimePay   OtherPay  Benefits   TotalPay  TotalPayBenefits  \\\n",
       "0  167411.18          0.0  400184.25       NaN  567595.43         567595.43   \n",
       "\n",
       "   Year  Notes         Agency Status  \n",
       "0  2011    NaN  San Francisco    NaN  "
      ]
     },
     "execution_count": 9,
     "metadata": {},
     "output_type": "execute_result"
    }
   ],
   "source": [
    "sal.loc[[sal['TotalPayBenefits'].argmax()]]"
   ]
  },
  {
   "cell_type": "markdown",
   "id": "d48c3f3a",
   "metadata": {
    "papermill": {
     "duration": 0.005848,
     "end_time": "2024-12-26T01:10:46.783105",
     "exception": false,
     "start_time": "2024-12-26T01:10:46.777257",
     "status": "completed"
    },
    "tags": []
   },
   "source": [
    "** What is the name of lowest paid person (including benefits)? Do you notice something strange about how much he or she is paid?**"
   ]
  },
  {
   "cell_type": "code",
   "execution_count": 10,
   "id": "a6da2134",
   "metadata": {
    "execution": {
     "iopub.execute_input": "2024-12-26T01:10:46.796703Z",
     "iopub.status.busy": "2024-12-26T01:10:46.796282Z",
     "iopub.status.idle": "2024-12-26T01:10:46.810395Z",
     "shell.execute_reply": "2024-12-26T01:10:46.809274Z"
    },
    "papermill": {
     "duration": 0.02273,
     "end_time": "2024-12-26T01:10:46.812024",
     "exception": false,
     "start_time": "2024-12-26T01:10:46.789294",
     "status": "completed"
    },
    "tags": []
   },
   "outputs": [
    {
     "data": {
      "text/html": [
       "<div>\n",
       "<style scoped>\n",
       "    .dataframe tbody tr th:only-of-type {\n",
       "        vertical-align: middle;\n",
       "    }\n",
       "\n",
       "    .dataframe tbody tr th {\n",
       "        vertical-align: top;\n",
       "    }\n",
       "\n",
       "    .dataframe thead th {\n",
       "        text-align: right;\n",
       "    }\n",
       "</style>\n",
       "<table border=\"1\" class=\"dataframe\">\n",
       "  <thead>\n",
       "    <tr style=\"text-align: right;\">\n",
       "      <th></th>\n",
       "      <th>Id</th>\n",
       "      <th>EmployeeName</th>\n",
       "      <th>JobTitle</th>\n",
       "      <th>BasePay</th>\n",
       "      <th>OvertimePay</th>\n",
       "      <th>OtherPay</th>\n",
       "      <th>Benefits</th>\n",
       "      <th>TotalPay</th>\n",
       "      <th>TotalPayBenefits</th>\n",
       "      <th>Year</th>\n",
       "      <th>Notes</th>\n",
       "      <th>Agency</th>\n",
       "      <th>Status</th>\n",
       "    </tr>\n",
       "  </thead>\n",
       "  <tbody>\n",
       "    <tr>\n",
       "      <th>148653</th>\n",
       "      <td>148654</td>\n",
       "      <td>Joe Lopez</td>\n",
       "      <td>Counselor, Log Cabin Ranch</td>\n",
       "      <td>0.0</td>\n",
       "      <td>0.0</td>\n",
       "      <td>-618.13</td>\n",
       "      <td>0.0</td>\n",
       "      <td>-618.13</td>\n",
       "      <td>-618.13</td>\n",
       "      <td>2014</td>\n",
       "      <td>NaN</td>\n",
       "      <td>San Francisco</td>\n",
       "      <td>PT</td>\n",
       "    </tr>\n",
       "  </tbody>\n",
       "</table>\n",
       "</div>"
      ],
      "text/plain": [
       "            Id EmployeeName                    JobTitle  BasePay  OvertimePay  \\\n",
       "148653  148654    Joe Lopez  Counselor, Log Cabin Ranch      0.0          0.0   \n",
       "\n",
       "        OtherPay  Benefits  TotalPay  TotalPayBenefits  Year  Notes  \\\n",
       "148653   -618.13       0.0   -618.13           -618.13  2014    NaN   \n",
       "\n",
       "               Agency Status  \n",
       "148653  San Francisco     PT  "
      ]
     },
     "execution_count": 10,
     "metadata": {},
     "output_type": "execute_result"
    }
   ],
   "source": [
    "sal.loc[[sal['TotalPayBenefits'].argmin()]]"
   ]
  },
  {
   "cell_type": "markdown",
   "id": "9ef49ab6",
   "metadata": {
    "papermill": {
     "duration": 0.006175,
     "end_time": "2024-12-26T01:10:46.824614",
     "exception": false,
     "start_time": "2024-12-26T01:10:46.818439",
     "status": "completed"
    },
    "tags": []
   },
   "source": [
    "Joe Lopez was the lowest paid employee in San Francisco with a deficit pay of -618.13"
   ]
  },
  {
   "cell_type": "markdown",
   "id": "2a346fbb",
   "metadata": {
    "papermill": {
     "duration": 0.005773,
     "end_time": "2024-12-26T01:10:46.836579",
     "exception": false,
     "start_time": "2024-12-26T01:10:46.830806",
     "status": "completed"
    },
    "tags": []
   },
   "source": [
    "** What was the average (mean) BasePay of all employees per year? (2011-2014) ? **"
   ]
  },
  {
   "cell_type": "code",
   "execution_count": 11,
   "id": "71d89a7b",
   "metadata": {
    "execution": {
     "iopub.execute_input": "2024-12-26T01:10:46.850139Z",
     "iopub.status.busy": "2024-12-26T01:10:46.849771Z",
     "iopub.status.idle": "2024-12-26T01:10:46.872448Z",
     "shell.execute_reply": "2024-12-26T01:10:46.871454Z"
    },
    "papermill": {
     "duration": 0.031394,
     "end_time": "2024-12-26T01:10:46.874152",
     "exception": false,
     "start_time": "2024-12-26T01:10:46.842758",
     "status": "completed"
    },
    "tags": []
   },
   "outputs": [
    {
     "data": {
      "text/plain": [
       "Year\n",
       "2011    63595.956517\n",
       "2012    65436.406857\n",
       "2013    69630.030216\n",
       "2014    66564.421924\n",
       "Name: BasePay, dtype: float64"
      ]
     },
     "execution_count": 11,
     "metadata": {},
     "output_type": "execute_result"
    }
   ],
   "source": [
    "sal.groupby('Year').mean(numeric_only = True)['BasePay']"
   ]
  },
  {
   "cell_type": "markdown",
   "id": "5d36db01",
   "metadata": {
    "papermill": {
     "duration": 0.006718,
     "end_time": "2024-12-26T01:10:46.887548",
     "exception": false,
     "start_time": "2024-12-26T01:10:46.880830",
     "status": "completed"
    },
    "tags": []
   },
   "source": [
    "** How many unique job titles are there? **"
   ]
  },
  {
   "cell_type": "code",
   "execution_count": 12,
   "id": "f94096fa",
   "metadata": {
    "execution": {
     "iopub.execute_input": "2024-12-26T01:10:46.901537Z",
     "iopub.status.busy": "2024-12-26T01:10:46.901208Z",
     "iopub.status.idle": "2024-12-26T01:10:46.916822Z",
     "shell.execute_reply": "2024-12-26T01:10:46.915868Z"
    },
    "papermill": {
     "duration": 0.0244,
     "end_time": "2024-12-26T01:10:46.918407",
     "exception": false,
     "start_time": "2024-12-26T01:10:46.894007",
     "status": "completed"
    },
    "tags": []
   },
   "outputs": [
    {
     "data": {
      "text/plain": [
       "2159"
      ]
     },
     "execution_count": 12,
     "metadata": {},
     "output_type": "execute_result"
    }
   ],
   "source": [
    "sal['JobTitle'].nunique()"
   ]
  },
  {
   "cell_type": "markdown",
   "id": "b5ec3c07",
   "metadata": {
    "execution": {
     "iopub.execute_input": "2024-12-25T23:44:29.007012Z",
     "iopub.status.busy": "2024-12-25T23:44:29.006578Z",
     "iopub.status.idle": "2024-12-25T23:44:29.014201Z",
     "shell.execute_reply": "2024-12-25T23:44:29.012734Z",
     "shell.execute_reply.started": "2024-12-25T23:44:29.006984Z"
    },
    "papermill": {
     "duration": 0.006212,
     "end_time": "2024-12-26T01:10:46.931367",
     "exception": false,
     "start_time": "2024-12-26T01:10:46.925155",
     "status": "completed"
    },
    "tags": []
   },
   "source": [
    "** What are the top 5 most common jobs? **"
   ]
  },
  {
   "cell_type": "code",
   "execution_count": 13,
   "id": "10cc52bd",
   "metadata": {
    "execution": {
     "iopub.execute_input": "2024-12-26T01:10:46.946325Z",
     "iopub.status.busy": "2024-12-26T01:10:46.946015Z",
     "iopub.status.idle": "2024-12-26T01:10:46.963870Z",
     "shell.execute_reply": "2024-12-26T01:10:46.962876Z"
    },
    "papermill": {
     "duration": 0.027536,
     "end_time": "2024-12-26T01:10:46.965778",
     "exception": false,
     "start_time": "2024-12-26T01:10:46.938242",
     "status": "completed"
    },
    "tags": []
   },
   "outputs": [
    {
     "data": {
      "text/plain": [
       "JobTitle\n",
       "Transit Operator                7036\n",
       "Special Nurse                   4389\n",
       "Registered Nurse                3736\n",
       "Public Svc Aide-Public Works    2518\n",
       "Police Officer 3                2421\n",
       "Name: count, dtype: int64"
      ]
     },
     "execution_count": 13,
     "metadata": {},
     "output_type": "execute_result"
    }
   ],
   "source": [
    "sal['JobTitle'].value_counts().head(5)"
   ]
  },
  {
   "cell_type": "markdown",
   "id": "f75c2f2d",
   "metadata": {
    "papermill": {
     "duration": 0.006734,
     "end_time": "2024-12-26T01:10:46.979378",
     "exception": false,
     "start_time": "2024-12-26T01:10:46.972644",
     "status": "completed"
    },
    "tags": []
   },
   "source": [
    "** How many Job Titles were represented by only one person in 2013? (e.g. Job Titles with only one occurence in 2013?) **"
   ]
  },
  {
   "cell_type": "code",
   "execution_count": 14,
   "id": "f3608276",
   "metadata": {
    "execution": {
     "iopub.execute_input": "2024-12-26T01:10:46.994353Z",
     "iopub.status.busy": "2024-12-26T01:10:46.994014Z",
     "iopub.status.idle": "2024-12-26T01:10:47.008134Z",
     "shell.execute_reply": "2024-12-26T01:10:47.007020Z"
    },
    "papermill": {
     "duration": 0.02363,
     "end_time": "2024-12-26T01:10:47.010055",
     "exception": false,
     "start_time": "2024-12-26T01:10:46.986425",
     "status": "completed"
    },
    "tags": []
   },
   "outputs": [
    {
     "data": {
      "text/plain": [
       "202"
      ]
     },
     "execution_count": 14,
     "metadata": {},
     "output_type": "execute_result"
    }
   ],
   "source": [
    "sal[sal['Year'] == 2013]['JobTitle'].value_counts()[lambda x: x == 1].count()"
   ]
  },
  {
   "cell_type": "markdown",
   "id": "e8d1e8aa",
   "metadata": {
    "papermill": {
     "duration": 0.00652,
     "end_time": "2024-12-26T01:10:47.023479",
     "exception": false,
     "start_time": "2024-12-26T01:10:47.016959",
     "status": "completed"
    },
    "tags": []
   },
   "source": [
    "** How many people have the word Chief in their job title? (This is pretty tricky) **"
   ]
  },
  {
   "cell_type": "code",
   "execution_count": 15,
   "id": "97de279f",
   "metadata": {
    "execution": {
     "iopub.execute_input": "2024-12-26T01:10:47.038117Z",
     "iopub.status.busy": "2024-12-26T01:10:47.037784Z",
     "iopub.status.idle": "2024-12-26T01:10:47.173137Z",
     "shell.execute_reply": "2024-12-26T01:10:47.172130Z"
    },
    "papermill": {
     "duration": 0.144606,
     "end_time": "2024-12-26T01:10:47.174746",
     "exception": false,
     "start_time": "2024-12-26T01:10:47.030140",
     "status": "completed"
    },
    "tags": []
   },
   "outputs": [
    {
     "data": {
      "text/plain": [
       "627"
      ]
     },
     "execution_count": 15,
     "metadata": {},
     "output_type": "execute_result"
    }
   ],
   "source": [
    "sal['JobTitle'].str.contains(r'\\bChief\\b', case = False, regex = True).sum()"
   ]
  },
  {
   "cell_type": "markdown",
   "id": "4e4db7c0",
   "metadata": {
    "papermill": {
     "duration": 0.006478,
     "end_time": "2024-12-26T01:10:47.188298",
     "exception": false,
     "start_time": "2024-12-26T01:10:47.181820",
     "status": "completed"
    },
    "tags": []
   },
   "source": [
    "** Bonus: Is there a correlation between length of the Job Title string and Salary? **"
   ]
  },
  {
   "cell_type": "code",
   "execution_count": 16,
   "id": "ab74d259",
   "metadata": {
    "execution": {
     "iopub.execute_input": "2024-12-26T01:10:47.203410Z",
     "iopub.status.busy": "2024-12-26T01:10:47.203072Z",
     "iopub.status.idle": "2024-12-26T01:10:47.256544Z",
     "shell.execute_reply": "2024-12-26T01:10:47.255573Z"
    },
    "papermill": {
     "duration": 0.063348,
     "end_time": "2024-12-26T01:10:47.258260",
     "exception": false,
     "start_time": "2024-12-26T01:10:47.194912",
     "status": "completed"
    },
    "tags": []
   },
   "outputs": [
    {
     "data": {
      "text/plain": [
       "-0.036878445932606675"
      ]
     },
     "execution_count": 16,
     "metadata": {},
     "output_type": "execute_result"
    }
   ],
   "source": [
    "sal['JobTitle'].str.len().corr(sal['TotalPayBenefits'])"
   ]
  }
 ],
 "metadata": {
  "kaggle": {
   "accelerator": "none",
   "dataSources": [
    {
     "datasetId": 14,
     "sourceId": 827864,
     "sourceType": "datasetVersion"
    }
   ],
   "dockerImageVersionId": 30822,
   "isGpuEnabled": false,
   "isInternetEnabled": true,
   "language": "python",
   "sourceType": "notebook"
  },
  "kernelspec": {
   "display_name": "Python 3",
   "language": "python",
   "name": "python3"
  },
  "language_info": {
   "codemirror_mode": {
    "name": "ipython",
    "version": 3
   },
   "file_extension": ".py",
   "mimetype": "text/x-python",
   "name": "python",
   "nbconvert_exporter": "python",
   "pygments_lexer": "ipython3",
   "version": "3.10.12"
  },
  "papermill": {
   "default_parameters": {},
   "duration": 4.574771,
   "end_time": "2024-12-26T01:10:47.783928",
   "environment_variables": {},
   "exception": null,
   "input_path": "__notebook__.ipynb",
   "output_path": "__notebook__.ipynb",
   "parameters": {},
   "start_time": "2024-12-26T01:10:43.209157",
   "version": "2.6.0"
  }
 },
 "nbformat": 4,
 "nbformat_minor": 5
}
